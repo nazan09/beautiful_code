{
 "cells": [
  {
   "cell_type": "code",
   "execution_count": 1,
   "id": "c60e161d-9704-48a1-b585-5d3d57c1f92d",
   "metadata": {},
   "outputs": [],
   "source": [
    "import cv2\n",
    "import numpy as np"
   ]
  },
  {
   "cell_type": "code",
   "execution_count": 3,
   "id": "8630a210-93e5-4cd6-bbed-3fbbbcf321fb",
   "metadata": {},
   "outputs": [
    {
     "data": {
      "text/plain": [
       "(900, 1200, 3)"
      ]
     },
     "execution_count": 3,
     "metadata": {},
     "output_type": "execute_result"
    }
   ],
   "source": [
    "my_img = cv2.imread(\"./aslan.jpg\",1)\n",
    "my_img.shape"
   ]
  },
  {
   "cell_type": "code",
   "execution_count": 5,
   "id": "b8a7b10d-1997-4a54-b108-2ab490e34329",
   "metadata": {},
   "outputs": [],
   "source": [
    "cv2.imshow(\"RGB Image\",my_img)\n",
    "cv2.waitKey(0)\n",
    "cv2.destroyAllWindows()"
   ]
  },
  {
   "cell_type": "code",
   "execution_count": null,
   "id": "3643a5c6-b53b-415c-9e03-b30966544e4c",
   "metadata": {},
   "outputs": [],
   "source": [
    "# Flipping (Döndürme işlemleri)\n",
    "# Flipping, bir görüntüyü dikey, yatay ve hem dikey hem de yatay\n",
    "# olarak 180 derece döndürmeye yarar\n",
    "\n",
    "# cv2.flip(görüntü_değişkeninin_adı, döndürme tamsayı değeri)\n",
    "\n",
    "#cv2.flip(my_img, 0) => görüntüyü dikey eksende 180 derece döndürür\n",
    "#cv2.flip(my_img, 1) => görüntüyü yatay eksende 180 derece döndürür\n",
    "#cv2.flip(my_img, -1) => görüntüyü hem dikey hem de yatay eksende 180 derece döndürür\n",
    "\n",
    "vertical_img = cv2.flip(my_img, 0)\n",
    "horizontal_img = cv2.flip(my_img, 1)\n",
    "both_img = cv2.flip(my_img, -1)"
   ]
  },
  {
   "cell_type": "code",
   "execution_count": null,
   "id": "022f5f3f-68bc-4a63-894c-d83778433304",
   "metadata": {},
   "outputs": [],
   "source": [
    "cv2.imshow(\"Original Image\",my_img)\n",
    "cv2.imshow(\"Vertical Image\",vertical_img)\n",
    "cv2.imshow(\"Horizontal Image\",horizontal_img)\n",
    "cv2.imshow(\"Vertical and Horizontal Image\",both_img)\n",
    "cv2.waitKey(0)\n",
    "cv2.destroyAllWindows()"
   ]
  },
  {
   "cell_type": "code",
   "execution_count": 9,
   "id": "d8b7560b-50cc-41a7-9b78-9cbf1fc7cca3",
   "metadata": {},
   "outputs": [
    {
     "data": {
      "text/plain": [
       "numpy.ndarray"
      ]
     },
     "execution_count": 9,
     "metadata": {},
     "output_type": "execute_result"
    }
   ],
   "source": [
    "type(my_img)"
   ]
  },
  {
   "cell_type": "code",
   "execution_count": 17,
   "id": "7c086da8-9e76-4ddf-a7cd-d7cbbe5fdd76",
   "metadata": {},
   "outputs": [
    {
     "name": "stdout",
     "output_type": "stream",
     "text": [
      "[1, 2, 3, 4, 5, 6, 7, 8, 9, 10]\n",
      "[1, 2, 3, 4, 5, 6, 7, 8, 9, 10]\n",
      "listenin ilk elemanı = 1\n",
      "listenin son elemanı = 10\n",
      "listenin son elemanı (tekrar) = 10\n",
      "listenin ilk elemanı (tekrar) = 1\n"
     ]
    }
   ],
   "source": [
    "my_list = [x for x in range(1,11)]\n",
    "print(my_list)\n",
    "print(my_list[:])\n",
    "print(f\"listenin ilk elemanı = {my_list[0]}\")\n",
    "print(f\"listenin son elemanı = {my_list[9]}\")\n",
    "print(f\"listenin son elemanı (tekrar) = {my_list[-1]}\")\n",
    "print(f\"listenin ilk elemanı (tekrar) = {my_list[-10]}\")"
   ]
  },
  {
   "cell_type": "code",
   "execution_count": 19,
   "id": "cfa56ba5-3947-4ac7-a3c2-d6ffcc71d36c",
   "metadata": {},
   "outputs": [
    {
     "data": {
      "text/plain": [
       "array([[14, 40, 13],\n",
       "       [19,  2, 15],\n",
       "       [27,  5, 18]])"
      ]
     },
     "execution_count": 19,
     "metadata": {},
     "output_type": "execute_result"
    }
   ],
   "source": [
    "my_matris = np.random.randint(1,50,(3,3))\n",
    "my_matris"
   ]
  },
  {
   "cell_type": "code",
   "execution_count": 21,
   "id": "bfe594ff-2321-41a5-9b22-e2493355d436",
   "metadata": {},
   "outputs": [
    {
     "data": {
      "text/plain": [
       "2"
      ]
     },
     "execution_count": 21,
     "metadata": {},
     "output_type": "execute_result"
    }
   ],
   "source": [
    "my_matris[1][1]"
   ]
  },
  {
   "cell_type": "code",
   "execution_count": 23,
   "id": "a61ee80d-6cd7-4427-a936-3c7fa05c2f65",
   "metadata": {},
   "outputs": [
    {
     "name": "stdout",
     "output_type": "stream",
     "text": [
      "[1, 2, 3, 4, 5, 6, 7, 8, 9, 10]\n",
      "[10, 9, 8, 7, 6, 5, 4, 3, 2, 1]\n"
     ]
    }
   ],
   "source": [
    "print(my_list[:])\n",
    "print(my_list[::-1])"
   ]
  },
  {
   "cell_type": "code",
   "execution_count": 27,
   "id": "76027a19-b7bf-496a-b6f5-0eaaa5702124",
   "metadata": {},
   "outputs": [
    {
     "name": "stdout",
     "output_type": "stream",
     "text": [
      "(900, 1200, 3)\n",
      "Görüntünün Yüksekliği = 900\n",
      "Görüntünün Genişliği = 1200\n",
      "Görüntünün Kanal Sayısı = 3\n"
     ]
    }
   ],
   "source": [
    "print(my_img.shape)\n",
    "print(f\"Görüntünün Yüksekliği = {my_img.shape[0]}\")\n",
    "print(f\"Görüntünün Genişliği = {my_img.shape[1]}\")\n",
    "print(f\"Görüntünün Kanal Sayısı = {my_img.shape[2]}\")"
   ]
  },
  {
   "cell_type": "code",
   "execution_count": 29,
   "id": "a99746d8-584f-4feb-9292-a61b244b1018",
   "metadata": {},
   "outputs": [],
   "source": [
    "#Hazır fonksiyonla değil de sadece kodla da görüntülerin\n",
    "#180 derece tersini alabiliriz.\n",
    "\n",
    "#Dikey eksende görüntünün tersini almak için\n",
    "new_vertical_img = my_img[::-1,:,:]\n",
    "\n",
    "#Yatay eksende görüntünün tersini almak için\n",
    "new_horizontal_img = my_img[:,::-1,:]\n",
    "\n",
    "#Hem dikey hem de yatay eksende görüntünün tersini almak için\n",
    "new_both_img = my_img[::-1,::-1,:]"
   ]
  },
  {
   "cell_type": "code",
   "execution_count": 31,
   "id": "6423188a-bad6-45d0-8da0-98e9a0a425ef",
   "metadata": {},
   "outputs": [],
   "source": [
    "cv2.imshow(\"Original Image\",my_img)\n",
    "cv2.imshow(\"Vertical Image\",new_vertical_img)\n",
    "cv2.imshow(\"Horizontal Image\",new_horizontal_img)\n",
    "cv2.imshow(\"Vertical and Horizontal Image\",new_both_img)\n",
    "cv2.waitKey(0)\n",
    "cv2.destroyAllWindows()"
   ]
  },
  {
   "cell_type": "code",
   "execution_count": 33,
   "id": "62df5792-7c1f-4626-86b2-d4817abcb6b2",
   "metadata": {},
   "outputs": [
    {
     "name": "stdout",
     "output_type": "stream",
     "text": [
      "(900, 1200, 3)\n",
      "Görüntünün Yüksekliği = 900\n",
      "Görüntünün Genişliği = 1200\n",
      "Görüntünün Kanal Sayısı = 3\n"
     ]
    }
   ],
   "source": [
    "# Resize (Görüntünün yükseklik ve genişliğini yeniden ayarlama)\n",
    "\n",
    "print(my_img.shape)\n",
    "print(f\"Görüntünün Yüksekliği = {my_img.shape[0]}\")\n",
    "print(f\"Görüntünün Genişliği = {my_img.shape[1]}\")\n",
    "print(f\"Görüntünün Kanal Sayısı = {my_img.shape[2]}\")"
   ]
  },
  {
   "cell_type": "code",
   "execution_count": 37,
   "id": "3e28155e-61dc-458c-9505-3d46c87f3e75",
   "metadata": {},
   "outputs": [],
   "source": [
    "# cv2'de görüntü okunduğu zaman önce yükseklik sonra genişlik\n",
    "# bilgisi verilir.\n",
    "# Ancak, işlem yapılacağı zaman (resize) önce genişlik sonra\n",
    "# yükseklik bilgisi girilir.\n",
    "\n",
    "# Büyütmek için CUBIC, küçültmek için AREA interplasyon\n",
    "# teknikleri kullanılırdı. Şimdi ise her ikisinde de\n",
    "# LANCZOS4 tekniği kullanılır.\n",
    "\n",
    "my_resized_img = cv2.resize(my_img,(600,450),cv2.INTER_LANCZOS4)\n",
    "\n",
    "cv2.imshow(\"Original Image\",my_img)\n",
    "cv2.imshow(\"Resized Image\",my_resized_img)\n",
    "cv2.waitKey(0)\n",
    "cv2.destroyAllWindows()"
   ]
  },
  {
   "cell_type": "code",
   "execution_count": 39,
   "id": "2117aaba-ff28-40e7-b2a7-3578fbbb2346",
   "metadata": {},
   "outputs": [
    {
     "data": {
      "text/plain": [
       "True"
      ]
     },
     "execution_count": 39,
     "metadata": {},
     "output_type": "execute_result"
    }
   ],
   "source": [
    "cv2.imwrite(\"./resized_image_output.png\",my_resized_img)"
   ]
  },
  {
   "cell_type": "code",
   "execution_count": null,
   "id": "4aa50b85-f3a0-4d54-9901-db3479602784",
   "metadata": {},
   "outputs": [],
   "source": []
  }
 ],
 "metadata": {
  "kernelspec": {
   "display_name": "tf_gpu_2_9_2",
   "language": "python",
   "name": "tf_gpu_2_9_2"
  },
  "language_info": {
   "codemirror_mode": {
    "name": "ipython",
    "version": 3
   },
   "file_extension": ".py",
   "mimetype": "text/x-python",
   "name": "python",
   "nbconvert_exporter": "python",
   "pygments_lexer": "ipython3",
   "version": "3.10.14"
  }
 },
 "nbformat": 4,
 "nbformat_minor": 5
}
